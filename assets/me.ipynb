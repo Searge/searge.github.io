{
 "cells": [
  {
   "cell_type": "markdown",
   "metadata": {},
   "source": [
    "### About the experience\n",
    "\n",
    "Originally I made this small script for a profile page on GitHub. But Hugo has support for Jupyter Notebook, so I decided to test it out.\n",
    "\n",
    "Unfortunately, Hugo does not show the script execution, so if you are interested, you can [check it out here](https://github.com/Searge/searge.github.io/blob/master/assets/me.ipynb)."
   ]
  },
  {
   "cell_type": "code",
   "execution_count": 1,
   "metadata": {},
   "outputs": [],
   "source": [
    "# %%\n",
    "# @title Imports dependencies\n",
    "\"\"\"Creating a class for keeping track of knowledge.\"\"\"\n",
    "import json\n",
    "from dataclasses import asdict, make_dataclass\n",
    "\n",
    "from rich import print"
   ]
  },
  {
   "cell_type": "code",
   "execution_count": 2,
   "metadata": {},
   "outputs": [],
   "source": [
    "# %%\n",
    "# @title Make dataclass for person\n",
    "person = make_dataclass(\n",
    "    \"Person\",\n",
    "    [\n",
    "        (\"nick\", str),\n",
    "        (\"name\", str),\n",
    "        (\"languages\", list[str]),\n",
    "        (\"pipelines\", list[str]),\n",
    "        (\"web_services\", list[str]),\n",
    "        (\"databases\", list[str]),\n",
    "        (\"monitoring\", list[str]),\n",
    "        (\"ops\", list[str]),\n",
    "    ],\n",
    "    namespace={\"to_json\": lambda self: json.dumps(asdict(self), indent=4)},\n",
    ")\n"
   ]
  },
  {
   "cell_type": "code",
   "execution_count": 3,
   "metadata": {},
   "outputs": [
    {
     "data": {
      "text/html": [
       "<pre style=\"white-space:pre;overflow-x:auto;line-height:normal;font-family:Menlo,'DejaVu Sans Mono',consolas,'Courier New',monospace\"><span style=\"font-weight: bold\">{</span>\n",
       "    <span style=\"color: #008000; text-decoration-color: #008000\">\"nick\"</span>: <span style=\"color: #008000; text-decoration-color: #008000\">\"@Searge\"</span>,\n",
       "    <span style=\"color: #008000; text-decoration-color: #008000\">\"name\"</span>: <span style=\"color: #008000; text-decoration-color: #008000\">\"Serhii Boremchuk\"</span>,\n",
       "    <span style=\"color: #008000; text-decoration-color: #008000\">\"languages\"</span>: <span style=\"font-weight: bold\">[</span>\n",
       "        <span style=\"color: #008000; text-decoration-color: #008000\">\"YAML\"</span>,\n",
       "        <span style=\"color: #008000; text-decoration-color: #008000\">\"Bash\"</span>,\n",
       "        <span style=\"color: #008000; text-decoration-color: #008000\">\"Python\"</span>,\n",
       "        <span style=\"color: #008000; text-decoration-color: #008000\">\"Go\"</span>,\n",
       "        <span style=\"color: #008000; text-decoration-color: #008000\">\"Web\"</span>\n",
       "    <span style=\"font-weight: bold\">]</span>,\n",
       "    <span style=\"color: #008000; text-decoration-color: #008000\">\"pipelines\"</span>: <span style=\"font-weight: bold\">[</span>\n",
       "        <span style=\"color: #008000; text-decoration-color: #008000\">\"GitLab Ci\"</span>,\n",
       "        <span style=\"color: #008000; text-decoration-color: #008000\">\"GitHub Actions\"</span>,\n",
       "        <span style=\"color: #008000; text-decoration-color: #008000\">\"AWS CodePipeline\"</span>,\n",
       "        <span style=\"color: #008000; text-decoration-color: #008000\">\"Jenkins\"</span>\n",
       "    <span style=\"font-weight: bold\">]</span>,\n",
       "    <span style=\"color: #008000; text-decoration-color: #008000\">\"web_services\"</span>: <span style=\"font-weight: bold\">[</span>\n",
       "        <span style=\"color: #008000; text-decoration-color: #008000\">\"NGINX\"</span>,\n",
       "        <span style=\"color: #008000; text-decoration-color: #008000\">\"Apache HTTP Server\"</span>,\n",
       "        <span style=\"color: #008000; text-decoration-color: #008000\">\"Varnish HTTP Cache\"</span>,\n",
       "        <span style=\"color: #008000; text-decoration-color: #008000\">\"Fastly\"</span>\n",
       "    <span style=\"font-weight: bold\">]</span>,\n",
       "    <span style=\"color: #008000; text-decoration-color: #008000\">\"databases\"</span>: <span style=\"font-weight: bold\">[</span>\n",
       "        <span style=\"color: #008000; text-decoration-color: #008000\">\"MariaDB\"</span>,\n",
       "        <span style=\"color: #008000; text-decoration-color: #008000\">\"PostgreSQL\"</span>,\n",
       "        <span style=\"color: #008000; text-decoration-color: #008000\">\"DynamoDB\"</span>,\n",
       "        <span style=\"color: #008000; text-decoration-color: #008000\">\"Redis\"</span>\n",
       "    <span style=\"font-weight: bold\">]</span>,\n",
       "    <span style=\"color: #008000; text-decoration-color: #008000\">\"monitoring\"</span>: <span style=\"font-weight: bold\">[</span>\n",
       "        <span style=\"color: #008000; text-decoration-color: #008000\">\"EFK\"</span>,\n",
       "        <span style=\"color: #008000; text-decoration-color: #008000\">\"Grafana\"</span>,\n",
       "        <span style=\"color: #008000; text-decoration-color: #008000\">\"Prometheus\"</span>,\n",
       "        <span style=\"color: #008000; text-decoration-color: #008000\">\"Wazuh\"</span>\n",
       "    <span style=\"font-weight: bold\">]</span>,\n",
       "    <span style=\"color: #008000; text-decoration-color: #008000\">\"ops\"</span>: <span style=\"font-weight: bold\">[</span>\n",
       "        <span style=\"color: #008000; text-decoration-color: #008000\">\"Linux\"</span>,\n",
       "        <span style=\"color: #008000; text-decoration-color: #008000\">\"Proxmox\"</span>,\n",
       "        <span style=\"color: #008000; text-decoration-color: #008000\">\"Kubernetes\"</span>,\n",
       "        <span style=\"color: #008000; text-decoration-color: #008000\">\"Docker\"</span>,\n",
       "        <span style=\"color: #008000; text-decoration-color: #008000\">\"Ansible\"</span>,\n",
       "        <span style=\"color: #008000; text-decoration-color: #008000\">\"Terraform\"</span>\n",
       "    <span style=\"font-weight: bold\">]</span>\n",
       "<span style=\"font-weight: bold\">}</span>\n",
       "</pre>\n"
      ],
      "text/plain": [
       "\u001b[1m{\u001b[0m\n",
       "    \u001b[32m\"nick\"\u001b[0m: \u001b[32m\"@Searge\"\u001b[0m,\n",
       "    \u001b[32m\"name\"\u001b[0m: \u001b[32m\"Serhii Boremchuk\"\u001b[0m,\n",
       "    \u001b[32m\"languages\"\u001b[0m: \u001b[1m[\u001b[0m\n",
       "        \u001b[32m\"YAML\"\u001b[0m,\n",
       "        \u001b[32m\"Bash\"\u001b[0m,\n",
       "        \u001b[32m\"Python\"\u001b[0m,\n",
       "        \u001b[32m\"Go\"\u001b[0m,\n",
       "        \u001b[32m\"Web\"\u001b[0m\n",
       "    \u001b[1m]\u001b[0m,\n",
       "    \u001b[32m\"pipelines\"\u001b[0m: \u001b[1m[\u001b[0m\n",
       "        \u001b[32m\"GitLab Ci\"\u001b[0m,\n",
       "        \u001b[32m\"GitHub Actions\"\u001b[0m,\n",
       "        \u001b[32m\"AWS CodePipeline\"\u001b[0m,\n",
       "        \u001b[32m\"Jenkins\"\u001b[0m\n",
       "    \u001b[1m]\u001b[0m,\n",
       "    \u001b[32m\"web_services\"\u001b[0m: \u001b[1m[\u001b[0m\n",
       "        \u001b[32m\"NGINX\"\u001b[0m,\n",
       "        \u001b[32m\"Apache HTTP Server\"\u001b[0m,\n",
       "        \u001b[32m\"Varnish HTTP Cache\"\u001b[0m,\n",
       "        \u001b[32m\"Fastly\"\u001b[0m\n",
       "    \u001b[1m]\u001b[0m,\n",
       "    \u001b[32m\"databases\"\u001b[0m: \u001b[1m[\u001b[0m\n",
       "        \u001b[32m\"MariaDB\"\u001b[0m,\n",
       "        \u001b[32m\"PostgreSQL\"\u001b[0m,\n",
       "        \u001b[32m\"DynamoDB\"\u001b[0m,\n",
       "        \u001b[32m\"Redis\"\u001b[0m\n",
       "    \u001b[1m]\u001b[0m,\n",
       "    \u001b[32m\"monitoring\"\u001b[0m: \u001b[1m[\u001b[0m\n",
       "        \u001b[32m\"EFK\"\u001b[0m,\n",
       "        \u001b[32m\"Grafana\"\u001b[0m,\n",
       "        \u001b[32m\"Prometheus\"\u001b[0m,\n",
       "        \u001b[32m\"Wazuh\"\u001b[0m\n",
       "    \u001b[1m]\u001b[0m,\n",
       "    \u001b[32m\"ops\"\u001b[0m: \u001b[1m[\u001b[0m\n",
       "        \u001b[32m\"Linux\"\u001b[0m,\n",
       "        \u001b[32m\"Proxmox\"\u001b[0m,\n",
       "        \u001b[32m\"Kubernetes\"\u001b[0m,\n",
       "        \u001b[32m\"Docker\"\u001b[0m,\n",
       "        \u001b[32m\"Ansible\"\u001b[0m,\n",
       "        \u001b[32m\"Terraform\"\u001b[0m\n",
       "    \u001b[1m]\u001b[0m\n",
       "\u001b[1m}\u001b[0m\n"
      ]
     },
     "metadata": {},
     "output_type": "display_data"
    }
   ],
   "source": [
    "# %%\n",
    "# @title Initializing classes and creating lists\n",
    "if __name__ == \"__main__\":\n",
    "    languages    = ['YAML', 'Bash', 'Python', 'Go', 'Web']\n",
    "    pipelines    = ['GitLab Ci', 'GitHub Actions', 'AWS CodePipeline', 'Jenkins']\n",
    "    web_services = ['NGINX', 'Apache HTTP Server', 'Varnish HTTP Cache', 'Fastly']\n",
    "    databases    = ['MariaDB', 'PostgreSQL', 'DynamoDB', 'Redis']\n",
    "    monitoring   = [ 'EFK', 'Grafana', 'Prometheus', 'Wazuh',]\n",
    "    ops          = [\n",
    "        'Linux', 'Proxmox',\n",
    "        'Kubernetes', 'Docker',\n",
    "        'Ansible', 'Terraform'\n",
    "        ]\n",
    "\n",
    "    me = person('@Searge', 'Serhii Boremchuk',\n",
    "                languages, pipelines, web_services, databases, monitoring, ops)\n",
    "\n",
    "    print(me.to_json())\n"
   ]
  }
 ],
 "metadata": {
  "kernelspec": {
   "display_name": "Python 3",
   "language": "python",
   "name": "python3"
  },
  "language_info": {
   "codemirror_mode": {
    "name": "ipython",
    "version": 3
   },
   "file_extension": ".py",
   "mimetype": "text/x-python",
   "name": "python",
   "nbconvert_exporter": "python",
   "pygments_lexer": "ipython3",
   "version": "3.12.8"
  }
 },
 "nbformat": 4,
 "nbformat_minor": 2
}
